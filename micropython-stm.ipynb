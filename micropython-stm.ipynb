{
 "cells": [
  {
   "cell_type": "markdown",
   "metadata": {
    "slideshow": {
     "slide_type": "slide"
    }
   },
   "source": [
    "# Python-in-a-box für €15\n",
    "## MicroPython auf dem STM32F4-Discovery Board\n",
    "\n",
    "> https://github.com/SpotlightKid/micropython-stm.git"
   ]
  },
  {
   "cell_type": "markdown",
   "metadata": {
    "slideshow": {
     "slide_type": "slide"
    }
   },
   "source": [
    "# MicroPython\n",
    "\n",
    "## Python for microcontrollers"
   ]
  },
  {
   "cell_type": "markdown",
   "metadata": {
    "slideshow": {
     "slide_type": "fragment"
    }
   },
   "source": [
    "> \"Micro Python is a lean and fast implementation of the Python 3 programming language that is optimised to run on a microcontroller. The Micro Python board is a small electronic circuit board that runs the Micro Python language.\""
   ]
  },
  {
   "cell_type": "markdown",
   "metadata": {
    "slideshow": {
     "slide_type": "slide"
    }
   },
   "source": [
    "# http://micropython.org/"
   ]
  },
  {
   "cell_type": "markdown",
   "metadata": {
    "slideshow": {
     "slide_type": "fragment"
    }
   },
   "source": [
    "# https://github.com/micropython"
   ]
  },
  {
   "cell_type": "markdown",
   "metadata": {
    "slideshow": {
     "slide_type": "fragment"
    }
   },
   "source": [
    "# http://forum.micropython.org/"
   ]
  },
  {
   "cell_type": "markdown",
   "metadata": {
    "slideshow": {
     "slide_type": "slide"
    }
   },
   "source": [
    "# Pyboard\n",
    "\n",
    "<img src=\"PYBv1_0-B-no.jpg\" />"
   ]
  },
  {
   "cell_type": "markdown",
   "metadata": {
    "slideshow": {
     "slide_type": "slide"
    }
   },
   "source": [
    "# STM32F4DISCOVERY Evaluation Board"
   ]
  },
  {
   "cell_type": "markdown",
   "metadata": {
    "slideshow": {
     "slide_type": "fragment"
    }
   },
   "source": [
    "<img src=\"stm32f4_discovery.jpg\" />"
   ]
  },
  {
   "cell_type": "markdown",
   "metadata": {
    "slideshow": {
     "slide_type": "slide"
    }
   },
   "source": [
    "# Features\n",
    "\n",
    "* STM32F407 ARM Cortex M4 Prozessor mit FPU\n",
    "* 168 Mhz\n",
    "* ST-Link Programmer\n",
    "* USB-OTG\n",
    "* Accelerometer\n",
    "* Audio-CODEC\n",
    "* Spottbillig"
   ]
  },
  {
   "cell_type": "markdown",
   "metadata": {
    "slideshow": {
     "slide_type": "slide"
    }
   },
   "source": [
    "# Anschlüsse und Pins"
   ]
  },
  {
   "cell_type": "markdown",
   "metadata": {
    "slideshow": {
     "slide_type": "fragment"
    }
   },
   "source": [
    "<img src=\"STM32F4DISCOVERY_overview.jpg\" />"
   ]
  },
  {
   "cell_type": "markdown",
   "metadata": {
    "slideshow": {
     "slide_type": "slide"
    }
   },
   "source": [
    "# Benötigte Hardware"
   ]
  },
  {
   "cell_type": "markdown",
   "metadata": {
    "slideshow": {
     "slide_type": "fragment"
    }
   },
   "source": [
    "* STM32F4DISCOVERY Evaluation Board (Mouser ca. €14 + Mwst.)\n",
    "* USB-Kabel Typ-A Stecker auf Mini-B Stecker\n",
    "* USB-Kabel Typ-A Stecker auf Micro-B Stecker\n",
    "* (optional) 2x Jumper oder Jumper-Kabel female, female"
   ]
  },
  {
   "cell_type": "markdown",
   "metadata": {
    "slideshow": {
     "slide_type": "slide"
    }
   },
   "source": [
    "# Benötigte Software\n",
    "\n",
    "[GNU Tools for ARM Embedded Processors] [1] Binary-Tarball herunterladen und auspacken, z.B. in `$HOME/lib`:\n",
    "\n",
    "```\n",
    "$ wget https://launchpad.net/gcc-arm-embedded/4.9/4.9-2015-q1-update/+download/gcc-arm-none-eabi-4_9-2015q1-20150306-linux.tar.bz2\n",
    "$ mkdir -p ~/lib; tar -xjf gcc-arm-none-eabi-*.tar.bz2 -C ~/lib\n",
    "```\n",
    "\n",
    "Binary-Pfad zur PATH-Environmentvariable hinzufügen:\n",
    "\n",
    "```\n",
    "$ export PATH=\"$HOME/lib/gcc-arm-none-eabi-4_9-2015-q1-update/bin:$PATH\"\n",
    "```\n",
    "\n",
    "[1]: https://launchpad.net/gcc-arm-embedded"
   ]
  },
  {
   "cell_type": "markdown",
   "metadata": {
    "slideshow": {
     "slide_type": "slide"
    }
   },
   "source": [
    "# Micro Python für STM32F4DISCOVERY kompilieren\n",
    "\n",
    "Micro Python Git-Repository klonen:\n",
    "\n",
    "```\n",
    "git clone https://github.com/micropython/micropython.git\n",
    "```\n",
    "\n",
    "In das `micropython/stmhal`-Verzeichnis wechseln und `make` aufrufen:\n",
    "\n",
    "```\n",
    "$ cd micropython/stmhal\n",
    "$ make BOARD=STM32F4DISC\n",
    "```\n"
   ]
  },
  {
   "cell_type": "markdown",
   "metadata": {
    "slideshow": {
     "slide_type": "slide"
    }
   },
   "source": [
    "# Micro Python für Unix kompilieren\n",
    "\n",
    "```\n",
    "$ cd ../unix\n",
    "$ make\n",
    "```\n",
    "\n",
    "Ausführen:\n",
    "\n",
    "``` \n",
    "$ ./micropython\n",
    "Micro Python v1.4.1-17-g9988618 on 2015-04-08; linux version\n",
    ">>> \n",
    "```\n"
   ]
  },
  {
   "cell_type": "markdown",
   "metadata": {
    "slideshow": {
     "slide_type": "slide"
    }
   },
   "source": [
    "# Booten im DFU-Modus\n",
    "\n",
    "*Device Firmware Upgrade Mode*"
   ]
  },
  {
   "cell_type": "markdown",
   "metadata": {
    "slideshow": {
     "slide_type": "fragment"
    }
   },
   "source": [
    "* Pin **BOOT0** via Jumper-Kabel mit **5V** verbinden.\n",
    "* Pin **BOOT1** (=**PB2**) via Jumper(-Kabel) mit **GND** verbinden (evtl. nicht notwendig).\n",
    "* Mini-USB-Port **CN1** zur Stromversorgung verbinden (z.B. mit USB-Port am Computer).\n",
    "* Micro-USB-Port **CN5** mit USB-Port am Computer verbinden.\n",
    "* **Reset**-Knopf drücken.\n",
    "\n",
    "Siehe auch: [UM1467 User manual](http://www.st.com/st-web-ui/static/active/en/resource/technical/document/user_manual/DM00037368.pdf) (*Getting started with software and firmware environments for the STM32F4DISCOVERY Kit*), S. 9."
   ]
  },
  {
   "cell_type": "markdown",
   "metadata": {
    "collapsed": true,
    "slideshow": {
     "slide_type": "slide"
    }
   },
   "source": [
    "# MicroPython Firmware flashen"
   ]
  },
  {
   "cell_type": "markdown",
   "metadata": {
    "slideshow": {
     "slide_type": "slide"
    }
   },
   "source": [
    "## Option 1: USB-DFU ([Device Firmware Update] [1])\n",
    "\n",
    "Paket [`dfu-util`] [2] installieren (Arch Linux: `dfu-util-git` aus AUR).\n",
    "\n",
    "```\n",
    "$ lsusb\n",
    "```\n",
    "\n",
    "USB-ID von Gerät *STMicroelectronics STM Device in DFU Mode* notieren.\n",
    "\n",
    "```\n",
    "$ cd stmhal\n",
    "$ make BOARD=STM32F4DISC DEVICE=0483:df11 V=1 deploy\n",
    "```\n",
    "\n",
    "Die Option `DEVICE` muss nur übergeben werden, falls sich die ermittelte USB-ID von der o.g. unterscheidet.\n",
    "\n",
    "[1]: https://en.wikipedia.org/wiki/Device_Firmware_Update\n",
    "[2]: http://wiki.openmoko.org/wiki/Dfu-util"
   ]
  },
  {
   "cell_type": "markdown",
   "metadata": {
    "slideshow": {
     "slide_type": "slide"
    }
   },
   "source": [
    "# Option 2: ST-Link und GDB\n",
    "\n",
    "* Paket [`stlink`] [1] installieren.\n",
    "* Neues Terminal-Fenster öffnen und `st-util` starten:\n",
    "\n",
    "      $ st-util\n",
    "\n",
    "* `st-util` wartet auf eine Verbindung von GDB. Wiederrum im `micropython/stmhal`-Verzeichnis:\n",
    "\n",
    "      $ arm-none-eabi-gdb build-STM32F4DISC/firmware.elf\n",
    "\n",
    "* Am Prompt von GDB mit dem `st-util`-Server verbinden:\n",
    "\n",
    "      (gdb) target extended localhost:4242\n",
    "\n",
    "* Firmware flashen:\n",
    "\n",
    "      (gdb) load\n",
    "\n",
    "\n",
    "[1]: https://github.com/texane/stlink"
   ]
  },
  {
   "cell_type": "markdown",
   "metadata": {
    "slideshow": {
     "slide_type": "slide"
    }
   },
   "source": [
    "# Interaktive Konsole"
   ]
  },
  {
   "cell_type": "markdown",
   "metadata": {
    "collapsed": true,
    "slideshow": {
     "slide_type": "fragment"
    }
   },
   "source": [
    "* Serielles-Terminalprogramm installieren, z.B. `miniterm.py` aus dem Paket `python-pyserial`.\n",
    "* Pin **PA10** via Jumper-Kabel mit **5V** verbinden, um Stromversorgung über USB-OTG-Anschluss (Micro-USB) zu ermöglichen.\n",
    "* USB-OTG-Anschluss mit USB-Anschluss am Computer verbinden. MicroPython bootet auf dem Discovery-Board und ein neues USB-Laufwerk (`PYBFLASH`) sowie eine neue serielle Schnittstelle (z.B. `/dev/ttyACM0`) sind verfügbar.\n",
    "* Terminalfenster öffnen und `miniterm.py` starten:\n",
    "\n",
    "      $ miniterm /dev/ttyACM0\n",
    "      Micro Python v1.4.2-84-g76abb2e on 2015-05-08; F4DISC with STM32F407\n",
    "      Type \"help()\" for more information.\n",
    "      >>> \n",
    "\n",
    "* `Control-]` drücken, um `miniterm.py` zu beenden. MicroPython wird dabei *nicht* beendet."
   ]
  }
 ],
 "metadata": {
  "celltoolbar": "Slideshow",
  "kernelspec": {
   "display_name": "Python 3",
   "language": "python",
   "name": "python3"
  },
  "language_info": {
   "codemirror_mode": {
    "name": "ipython",
    "version": 3
   },
   "file_extension": ".py",
   "mimetype": "text/x-python",
   "name": "python",
   "nbconvert_exporter": "python",
   "pygments_lexer": "ipython3",
   "version": "3.4.3"
  }
 },
 "nbformat": 4,
 "nbformat_minor": 0
}
